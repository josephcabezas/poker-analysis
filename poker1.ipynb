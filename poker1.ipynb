{
  "nbformat": 4,
  "nbformat_minor": 0,
  "metadata": {
    "colab": {
      "provenance": [],
      "authorship_tag": "ABX9TyOngYMgvEL4AUhGrgg0tkBG",
      "include_colab_link": true
    },
    "kernelspec": {
      "name": "python3",
      "display_name": "Python 3"
    },
    "language_info": {
      "name": "python"
    }
  },
  "cells": [
    {
      "cell_type": "markdown",
      "metadata": {
        "id": "view-in-github",
        "colab_type": "text"
      },
      "source": [
        "<a href=\"https://colab.research.google.com/github/josephcabezas/poker-analysis/blob/main/poker1.ipynb\" target=\"_parent\"><img src=\"https://colab.research.google.com/assets/colab-badge.svg\" alt=\"Open In Colab\"/></a>"
      ]
    },
    {
      "cell_type": "markdown",
      "source": [
        "Install dependencies"
      ],
      "metadata": {
        "id": "Ph3RgmY3Qcxp"
      }
    },
    {
      "cell_type": "code",
      "execution_count": 2,
      "metadata": {
        "colab": {
          "base_uri": "https://localhost:8080/"
        },
        "id": "pEc5VzdNPHgs",
        "outputId": "80fe4ccd-6aae-455f-b411-b3c38aab7c67"
      },
      "outputs": [
        {
          "output_type": "stream",
          "name": "stdout",
          "text": [
            "Requirement already satisfied: pandas in /usr/local/lib/python3.10/dist-packages (2.2.2)\n",
            "Requirement already satisfied: numpy in /usr/local/lib/python3.10/dist-packages (1.26.4)\n",
            "Requirement already satisfied: python-dateutil>=2.8.2 in /usr/local/lib/python3.10/dist-packages (from pandas) (2.8.2)\n",
            "Requirement already satisfied: pytz>=2020.1 in /usr/local/lib/python3.10/dist-packages (from pandas) (2024.2)\n",
            "Requirement already satisfied: tzdata>=2022.7 in /usr/local/lib/python3.10/dist-packages (from pandas) (2024.2)\n",
            "Requirement already satisfied: six>=1.5 in /usr/local/lib/python3.10/dist-packages (from python-dateutil>=2.8.2->pandas) (1.16.0)\n",
            "Collecting deuces\n",
            "  Downloading deuces-0.2.1-py3-none-any.whl.metadata (8.4 kB)\n",
            "Downloading deuces-0.2.1-py3-none-any.whl (13 kB)\n",
            "Installing collected packages: deuces\n",
            "Successfully installed deuces-0.2.1\n"
          ]
        }
      ],
      "source": [
        "!pip install pandas numpy\n",
        "!pip install deuces"
      ]
    },
    {
      "cell_type": "markdown",
      "source": [
        "Poker simulation\n"
      ],
      "metadata": {
        "id": "UtfvygqZQtK1"
      }
    },
    {
      "cell_type": "code",
      "source": [
        "import random\n",
        "import pandas as pd\n",
        "\n",
        "# Define a deck of cards\n",
        "suits = ['H', 'D', 'C', 'S']  # Hearts, Diamonds, Clubs, Spades\n",
        "ranks = ['2', '3', '4', '5', '6', '7', '8', '9', 'T', 'J', 'Q', 'K', 'A']\n",
        "deck = [rank + suit for suit in suits for rank in ranks]\n",
        "\n",
        "# Function to evaluate hand strength (simple version)\n",
        "def evaluate_hand(hand):\n",
        "    # Placeholder function: you can implement hand strength logic\n",
        "    return random.randint(1, 10)  # Replace with actual evaluation logic\n"
      ],
      "metadata": {
        "id": "ITap9-4ZQwF5"
      },
      "execution_count": 3,
      "outputs": []
    },
    {
      "cell_type": "markdown",
      "source": [
        "simulate poker hands"
      ],
      "metadata": {
        "id": "x54kQH8IRCQk"
      }
    },
    {
      "cell_type": "code",
      "source": [
        "def simulate_poker_hand():\n",
        "    # Shuffle the deck\n",
        "    random.shuffle(deck)\n",
        "\n",
        "    # Deal two hole cards to the player\n",
        "    player_hand = deck[:2]\n",
        "\n",
        "    # Deal the flop (3 community cards)\n",
        "    flop = deck[2:5]\n",
        "\n",
        "    # Deal the turn (1 community card)\n",
        "    turn = deck[5:6]\n",
        "\n",
        "    # Deal the river (1 community card)\n",
        "    river = deck[6:7]\n",
        "\n",
        "    # Combine all cards\n",
        "    all_cards = player_hand + flop + turn + river\n",
        "\n",
        "    # Evaluate player's hand strength\n",
        "    player_hand_strength = evaluate_hand(all_cards)\n",
        "\n",
        "    # Placeholder for outcome (you could simulate opponent hands and determine win)\n",
        "    outcome = random.choice(['win', 'lose'])  # Replace with actual win logic\n",
        "\n",
        "    return {\n",
        "        'player_hand': player_hand,\n",
        "        'flop': flop,\n",
        "        'turn': turn,\n",
        "        'river': river,\n",
        "        'player_hand_strength': player_hand_strength,\n",
        "        'outcome': outcome\n",
        "    }\n"
      ],
      "metadata": {
        "id": "pg6fHjIbREQb"
      },
      "execution_count": 4,
      "outputs": []
    },
    {
      "cell_type": "markdown",
      "source": [
        "collect data"
      ],
      "metadata": {
        "id": "ZhY8_LncRjmv"
      }
    },
    {
      "cell_type": "code",
      "source": [
        "num_simulations = 10000  # Set the number of simulations you want\n",
        "data = []\n",
        "\n",
        "for _ in range(num_simulations):\n",
        "    hand_result = simulate_poker_hand()\n",
        "    data.append(hand_result)\n",
        "\n",
        "# Convert to DataFrame for easy manipulation\n",
        "df = pd.DataFrame(data)\n"
      ],
      "metadata": {
        "id": "MlSfnnSLRnHB"
      },
      "execution_count": null,
      "outputs": []
    },
    {
      "cell_type": "markdown",
      "source": [
        "save data"
      ],
      "metadata": {
        "id": "VwHaQyRkRo4F"
      }
    },
    {
      "cell_type": "code",
      "source": [
        "df.to_csv('simulated_poker_hands.csv', index=False)\n"
      ],
      "metadata": {
        "id": "koQN6P_7RqLC"
      },
      "execution_count": null,
      "outputs": []
    },
    {
      "cell_type": "code",
      "source": [
        "df = pd.read_csv('simulated_poker_hands.csv')\n"
      ],
      "metadata": {
        "id": "dNS96ilbRs-p"
      },
      "execution_count": null,
      "outputs": []
    }
  ]
}